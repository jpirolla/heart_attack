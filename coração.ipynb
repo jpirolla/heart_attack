{
  "nbformat": 4,
  "nbformat_minor": 0,
  "metadata": {
    "colab": {
      "provenance": []
    },
    "kernelspec": {
      "name": "python3",
      "display_name": "Python 3"
    },
    "language_info": {
      "name": "python"
    }
  },
  "cells": [
    {
      "cell_type": "markdown",
      "source": [
        "# Projeto Final: Heart Attack Analysis & Prediction Datase\n"
      ],
      "metadata": {
        "id": "uzQ4CFtQa_rA"
      }
    },
    {
      "cell_type": "markdown",
      "source": [
        "###>Dataset\n",
        "\n",
        "https://www.kaggle.com/datasets/rashikrahmanpritom/heart-attack-analysis-prediction-dataset\n",
        "\n",
        "Projeto de previsão e análise de ataque cardíaco"
      ],
      "metadata": {
        "id": "pFQcgOE1hWnI"
      }
    },
    {
      "cell_type": "markdown",
      "source": [
        "###>Descrição dos Atributos\n",
        "\n",
        "- **Age**: idade do paciente (entre 29 e 77);\n",
        "- **Sex**: sexo do paciente (0 ou 1)\n",
        "    - 0: mulher;\n",
        "    - 1: homem;\n",
        "- **Cp**: tipo de dor no peito;\n",
        "    - Valor 1: angina* típica;\n",
        "    - Valor 2: angina* atípica;\n",
        "    - Valor 3: dor não anginosa*;\n",
        "    - Valor 4: assintomático;\n",
        "\n",
        "*Tipo de dor no peito causada pela redução do fluxo sanguíneo para o coração.**\n",
        "\n",
        "- **Trtbps**: pressão arterial em repouso (em mmHg)\n",
        "- **Chol**: colesterol em mg/dl obtido via sensor de IMC\n",
        "- **Fbs**: açúcar no sangue em jejum > 120 mg/dl \n",
        "    - Valor 1 = True; \n",
        "    - Valor 0 = False;\n",
        "- **Restecg**: resultados eletrocardiográficos em repouso\n",
        "    - Valor 0: normal;\n",
        "    - Valor 1: anormalidade da onda ST-T (inversões da onda T e/ou elevação ou depressão ST > 0,05 mV);\n",
        "    - Valor 2: mostrando hipertrofia ventricular esquerda provável ou definitiva pelos critérios de Estes \n",
        ">> (que critério é esse? ver dps);\n",
        "- **Thalachh**:frequência cardíaca máxima alcançada\n",
        "- **Exang**:angina induzida por exercício\n",
        "    - Valor 1: sim;\n",
        "    - Valor 2: não;\n",
        "- **Oldpeak**: pico anterior*\n",
        "- **Slp** (slope): inclinação do pico do segmento ST do exercício \n",
        "    - Valor 0: descendente;\n",
        "    - Valor 1: plano; \n",
        "    - Valor 2: ascendente: \n",
        "\n",
        "*Condição médica em que o aumento dos batimentos cardicos, saindo de repouro para uma atividade fisica, sofre uma \"depressão\" visivel no eletrocardiograma.**\n",
        "- **Ca**: número de vasos principais (0-3);\n",
        "- **thal**: Talassemia*\n",
        "    - 1: defeito corrigido; \n",
        "    - 2: normal; \n",
        "    - 3: defeito reversível;\n",
        "\n",
        "*Distúrbio sanguíneo que envolve menores quantidade de proteína transportadoras de oxigênio.**\n",
        "- **output**: (target) : \n",
        "    - 0: menos chance de ataque cardíaco;\n",
        "    - 1: mais chance de ataque cardíaco.\n"
      ],
      "metadata": {
        "id": "pineQsP9hWWo"
      }
    },
    {
      "cell_type": "markdown",
      "source": [
        "# 2. Preparação dos Dados"
      ],
      "metadata": {
        "id": "QQHevLWwc1fv"
      }
    },
    {
      "cell_type": "markdown",
      "source": [
        "## 2.1 Importação das bibliotecas "
      ],
      "metadata": {
        "id": "hjSDjBkh9Nel"
      }
    },
    {
      "cell_type": "code",
      "source": [
        "pip install PyQt5"
      ],
      "metadata": {
        "colab": {
          "base_uri": "https://localhost:8080/"
        },
        "id": "1rq0c7vjccQ5",
        "outputId": "83c2d239-9821-4301-bda2-a1b54e51b855"
      },
      "execution_count": null,
      "outputs": [
        {
          "output_type": "stream",
          "name": "stdout",
          "text": [
            "Looking in indexes: https://pypi.org/simple, https://us-python.pkg.dev/colab-wheels/public/simple/\n",
            "Collecting PyQt5\n",
            "  Downloading PyQt5-5.15.9-cp37-abi3-manylinux_2_17_x86_64.whl (8.4 MB)\n",
            "\u001b[2K     \u001b[90m━━━━━━━━━━━━━━━━━━━━━━━━━━━━━━━━━━━━━━━━\u001b[0m \u001b[32m8.4/8.4 MB\u001b[0m \u001b[31m45.1 MB/s\u001b[0m eta \u001b[36m0:00:00\u001b[0m\n",
            "\u001b[?25hCollecting PyQt5-Qt5>=5.15.2\n",
            "  Downloading PyQt5_Qt5-5.15.2-py3-none-manylinux2014_x86_64.whl (59.9 MB)\n",
            "\u001b[2K     \u001b[90m━━━━━━━━━━━━━━━━━━━━━━━━━━━━━━━━━━━━━━━━\u001b[0m \u001b[32m59.9/59.9 MB\u001b[0m \u001b[31m12.0 MB/s\u001b[0m eta \u001b[36m0:00:00\u001b[0m\n",
            "\u001b[?25hCollecting PyQt5-sip<13,>=12.11\n",
            "  Downloading PyQt5_sip-12.11.1-cp39-cp39-manylinux_2_5_x86_64.manylinux1_x86_64.whl (357 kB)\n",
            "\u001b[2K     \u001b[90m━━━━━━━━━━━━━━━━━━━━━━━━━━━━━━━━━━━━━━\u001b[0m \u001b[32m357.8/357.8 KB\u001b[0m \u001b[31m32.1 MB/s\u001b[0m eta \u001b[36m0:00:00\u001b[0m\n",
            "\u001b[?25hInstalling collected packages: PyQt5-Qt5, PyQt5-sip, PyQt5\n",
            "Successfully installed PyQt5-5.15.9 PyQt5-Qt5-5.15.2 PyQt5-sip-12.11.1\n"
          ]
        }
      ]
    },
    {
      "cell_type": "code",
      "source": [
        "%matplotlib inline\n",
        "#%matplotlib widget\n",
        "import PyQt5\n",
        "import pandas as pd\n",
        "import numpy as np\n",
        "import matplotlib.pyplot as plt\n",
        "import plotly.express as px\n",
        "import seaborn as sns"
      ],
      "metadata": {
        "id": "CDvAdO-DdGoM"
      },
      "execution_count": null,
      "outputs": []
    },
    {
      "cell_type": "markdown",
      "source": [
        "## 2.2 Construção do dataset"
      ],
      "metadata": {
        "id": "w6i18AkKgdZ7"
      }
    },
    {
      "cell_type": "code",
      "source": [
        "df = pd.read_csv('heart.csv')\n",
        "saturation = pd.read_csv('o2Saturation.csv')\n",
        "\n",
        "# acrescentar a coluna saturação no dataset\n",
        "df['saturation'] = saturation\n",
        "\n",
        "df.head()"
      ],
      "metadata": {
        "colab": {
          "base_uri": "https://localhost:8080/",
          "height": 270
        },
        "id": "F0OSxl0NdLOx",
        "outputId": "d49b4b9d-3f85-49a3-a467-dca560e09814"
      },
      "execution_count": null,
      "outputs": [
        {
          "output_type": "execute_result",
          "data": {
            "text/plain": [
              "   age  sex  cp  trtbps  chol  fbs  restecg  thalachh  exng  oldpeak  slp  \\\n",
              "0   63    1   3     145   233    1        0       150     0      2.3    0   \n",
              "1   37    1   2     130   250    0        1       187     0      3.5    0   \n",
              "2   41    0   1     130   204    0        0       172     0      1.4    2   \n",
              "3   56    1   1     120   236    0        1       178     0      0.8    2   \n",
              "4   57    0   0     120   354    0        1       163     1      0.6    2   \n",
              "\n",
              "   caa  thall  output  saturation  \n",
              "0    0      1       1        98.6  \n",
              "1    0      2       1        98.6  \n",
              "2    0      2       1        98.6  \n",
              "3    0      2       1        98.1  \n",
              "4    0      2       1        97.5  "
            ],
            "text/html": [
              "\n",
              "  <div id=\"df-141edaa7-484e-4668-85e8-222d04562ce6\">\n",
              "    <div class=\"colab-df-container\">\n",
              "      <div>\n",
              "<style scoped>\n",
              "    .dataframe tbody tr th:only-of-type {\n",
              "        vertical-align: middle;\n",
              "    }\n",
              "\n",
              "    .dataframe tbody tr th {\n",
              "        vertical-align: top;\n",
              "    }\n",
              "\n",
              "    .dataframe thead th {\n",
              "        text-align: right;\n",
              "    }\n",
              "</style>\n",
              "<table border=\"1\" class=\"dataframe\">\n",
              "  <thead>\n",
              "    <tr style=\"text-align: right;\">\n",
              "      <th></th>\n",
              "      <th>age</th>\n",
              "      <th>sex</th>\n",
              "      <th>cp</th>\n",
              "      <th>trtbps</th>\n",
              "      <th>chol</th>\n",
              "      <th>fbs</th>\n",
              "      <th>restecg</th>\n",
              "      <th>thalachh</th>\n",
              "      <th>exng</th>\n",
              "      <th>oldpeak</th>\n",
              "      <th>slp</th>\n",
              "      <th>caa</th>\n",
              "      <th>thall</th>\n",
              "      <th>output</th>\n",
              "      <th>saturation</th>\n",
              "    </tr>\n",
              "  </thead>\n",
              "  <tbody>\n",
              "    <tr>\n",
              "      <th>0</th>\n",
              "      <td>63</td>\n",
              "      <td>1</td>\n",
              "      <td>3</td>\n",
              "      <td>145</td>\n",
              "      <td>233</td>\n",
              "      <td>1</td>\n",
              "      <td>0</td>\n",
              "      <td>150</td>\n",
              "      <td>0</td>\n",
              "      <td>2.3</td>\n",
              "      <td>0</td>\n",
              "      <td>0</td>\n",
              "      <td>1</td>\n",
              "      <td>1</td>\n",
              "      <td>98.6</td>\n",
              "    </tr>\n",
              "    <tr>\n",
              "      <th>1</th>\n",
              "      <td>37</td>\n",
              "      <td>1</td>\n",
              "      <td>2</td>\n",
              "      <td>130</td>\n",
              "      <td>250</td>\n",
              "      <td>0</td>\n",
              "      <td>1</td>\n",
              "      <td>187</td>\n",
              "      <td>0</td>\n",
              "      <td>3.5</td>\n",
              "      <td>0</td>\n",
              "      <td>0</td>\n",
              "      <td>2</td>\n",
              "      <td>1</td>\n",
              "      <td>98.6</td>\n",
              "    </tr>\n",
              "    <tr>\n",
              "      <th>2</th>\n",
              "      <td>41</td>\n",
              "      <td>0</td>\n",
              "      <td>1</td>\n",
              "      <td>130</td>\n",
              "      <td>204</td>\n",
              "      <td>0</td>\n",
              "      <td>0</td>\n",
              "      <td>172</td>\n",
              "      <td>0</td>\n",
              "      <td>1.4</td>\n",
              "      <td>2</td>\n",
              "      <td>0</td>\n",
              "      <td>2</td>\n",
              "      <td>1</td>\n",
              "      <td>98.6</td>\n",
              "    </tr>\n",
              "    <tr>\n",
              "      <th>3</th>\n",
              "      <td>56</td>\n",
              "      <td>1</td>\n",
              "      <td>1</td>\n",
              "      <td>120</td>\n",
              "      <td>236</td>\n",
              "      <td>0</td>\n",
              "      <td>1</td>\n",
              "      <td>178</td>\n",
              "      <td>0</td>\n",
              "      <td>0.8</td>\n",
              "      <td>2</td>\n",
              "      <td>0</td>\n",
              "      <td>2</td>\n",
              "      <td>1</td>\n",
              "      <td>98.1</td>\n",
              "    </tr>\n",
              "    <tr>\n",
              "      <th>4</th>\n",
              "      <td>57</td>\n",
              "      <td>0</td>\n",
              "      <td>0</td>\n",
              "      <td>120</td>\n",
              "      <td>354</td>\n",
              "      <td>0</td>\n",
              "      <td>1</td>\n",
              "      <td>163</td>\n",
              "      <td>1</td>\n",
              "      <td>0.6</td>\n",
              "      <td>2</td>\n",
              "      <td>0</td>\n",
              "      <td>2</td>\n",
              "      <td>1</td>\n",
              "      <td>97.5</td>\n",
              "    </tr>\n",
              "  </tbody>\n",
              "</table>\n",
              "</div>\n",
              "      <button class=\"colab-df-convert\" onclick=\"convertToInteractive('df-141edaa7-484e-4668-85e8-222d04562ce6')\"\n",
              "              title=\"Convert this dataframe to an interactive table.\"\n",
              "              style=\"display:none;\">\n",
              "        \n",
              "  <svg xmlns=\"http://www.w3.org/2000/svg\" height=\"24px\"viewBox=\"0 0 24 24\"\n",
              "       width=\"24px\">\n",
              "    <path d=\"M0 0h24v24H0V0z\" fill=\"none\"/>\n",
              "    <path d=\"M18.56 5.44l.94 2.06.94-2.06 2.06-.94-2.06-.94-.94-2.06-.94 2.06-2.06.94zm-11 1L8.5 8.5l.94-2.06 2.06-.94-2.06-.94L8.5 2.5l-.94 2.06-2.06.94zm10 10l.94 2.06.94-2.06 2.06-.94-2.06-.94-.94-2.06-.94 2.06-2.06.94z\"/><path d=\"M17.41 7.96l-1.37-1.37c-.4-.4-.92-.59-1.43-.59-.52 0-1.04.2-1.43.59L10.3 9.45l-7.72 7.72c-.78.78-.78 2.05 0 2.83L4 21.41c.39.39.9.59 1.41.59.51 0 1.02-.2 1.41-.59l7.78-7.78 2.81-2.81c.8-.78.8-2.07 0-2.86zM5.41 20L4 18.59l7.72-7.72 1.47 1.35L5.41 20z\"/>\n",
              "  </svg>\n",
              "      </button>\n",
              "      \n",
              "  <style>\n",
              "    .colab-df-container {\n",
              "      display:flex;\n",
              "      flex-wrap:wrap;\n",
              "      gap: 12px;\n",
              "    }\n",
              "\n",
              "    .colab-df-convert {\n",
              "      background-color: #E8F0FE;\n",
              "      border: none;\n",
              "      border-radius: 50%;\n",
              "      cursor: pointer;\n",
              "      display: none;\n",
              "      fill: #1967D2;\n",
              "      height: 32px;\n",
              "      padding: 0 0 0 0;\n",
              "      width: 32px;\n",
              "    }\n",
              "\n",
              "    .colab-df-convert:hover {\n",
              "      background-color: #E2EBFA;\n",
              "      box-shadow: 0px 1px 2px rgba(60, 64, 67, 0.3), 0px 1px 3px 1px rgba(60, 64, 67, 0.15);\n",
              "      fill: #174EA6;\n",
              "    }\n",
              "\n",
              "    [theme=dark] .colab-df-convert {\n",
              "      background-color: #3B4455;\n",
              "      fill: #D2E3FC;\n",
              "    }\n",
              "\n",
              "    [theme=dark] .colab-df-convert:hover {\n",
              "      background-color: #434B5C;\n",
              "      box-shadow: 0px 1px 3px 1px rgba(0, 0, 0, 0.15);\n",
              "      filter: drop-shadow(0px 1px 2px rgba(0, 0, 0, 0.3));\n",
              "      fill: #FFFFFF;\n",
              "    }\n",
              "  </style>\n",
              "\n",
              "      <script>\n",
              "        const buttonEl =\n",
              "          document.querySelector('#df-141edaa7-484e-4668-85e8-222d04562ce6 button.colab-df-convert');\n",
              "        buttonEl.style.display =\n",
              "          google.colab.kernel.accessAllowed ? 'block' : 'none';\n",
              "\n",
              "        async function convertToInteractive(key) {\n",
              "          const element = document.querySelector('#df-141edaa7-484e-4668-85e8-222d04562ce6');\n",
              "          const dataTable =\n",
              "            await google.colab.kernel.invokeFunction('convertToInteractive',\n",
              "                                                     [key], {});\n",
              "          if (!dataTable) return;\n",
              "\n",
              "          const docLinkHtml = 'Like what you see? Visit the ' +\n",
              "            '<a target=\"_blank\" href=https://colab.research.google.com/notebooks/data_table.ipynb>data table notebook</a>'\n",
              "            + ' to learn more about interactive tables.';\n",
              "          element.innerHTML = '';\n",
              "          dataTable['output_type'] = 'display_data';\n",
              "          await google.colab.output.renderOutput(dataTable, element);\n",
              "          const docLink = document.createElement('div');\n",
              "          docLink.innerHTML = docLinkHtml;\n",
              "          element.appendChild(docLink);\n",
              "        }\n",
              "      </script>\n",
              "    </div>\n",
              "  </div>\n",
              "  "
            ]
          },
          "metadata": {},
          "execution_count": 4
        }
      ]
    },
    {
      "cell_type": "markdown",
      "source": [
        "## 2.2 Analisando os tipos de Variáveis\n",
        "Antes de operarmos sobre os dados, é importante verificar os tipos de dados que compõem nosso dataset. \n",
        "\n",
        "1. **Variáveis Quantitativas**\n",
        "  - Discretas\n",
        "  - Contínuas \n",
        "\n",
        "2. **Variáveis Qualitativas**  (ou categóricas)\n",
        "  - Ordinais\n",
        "  - Nominais"
      ],
      "metadata": {
        "id": "Dht40GSUgVxg"
      }
    },
    {
      "cell_type": "code",
      "source": [
        "# tipo de variáveis \n",
        "df.info()"
      ],
      "metadata": {
        "colab": {
          "base_uri": "https://localhost:8080/"
        },
        "id": "dkTx91UWiqYu",
        "outputId": "5da4c962-403c-48b8-8f5a-0d595cc7cce7"
      },
      "execution_count": null,
      "outputs": [
        {
          "output_type": "stream",
          "name": "stdout",
          "text": [
            "<class 'pandas.core.frame.DataFrame'>\n",
            "RangeIndex: 303 entries, 0 to 302\n",
            "Data columns (total 15 columns):\n",
            " #   Column      Non-Null Count  Dtype  \n",
            "---  ------      --------------  -----  \n",
            " 0   age         303 non-null    int64  \n",
            " 1   sex         303 non-null    int64  \n",
            " 2   cp          303 non-null    int64  \n",
            " 3   trtbps      303 non-null    int64  \n",
            " 4   chol        303 non-null    int64  \n",
            " 5   fbs         303 non-null    int64  \n",
            " 6   restecg     303 non-null    int64  \n",
            " 7   thalachh    303 non-null    int64  \n",
            " 8   exng        303 non-null    int64  \n",
            " 9   oldpeak     303 non-null    float64\n",
            " 10  slp         303 non-null    int64  \n",
            " 11  caa         303 non-null    int64  \n",
            " 12  thall       303 non-null    int64  \n",
            " 13  output      303 non-null    int64  \n",
            " 14  saturation  303 non-null    float64\n",
            "dtypes: float64(2), int64(13)\n",
            "memory usage: 35.6 KB\n"
          ]
        }
      ]
    },
    {
      "cell_type": "markdown",
      "source": [
        "Note que nosso dataframe é composto únicamente por variáveis numéricas, isto é, as variáveis categóricas já foram transformadas de modo que possamos realizar as análises quantitativas. "
      ],
      "metadata": {
        "id": "AfaT957Tix1W"
      }
    },
    {
      "cell_type": "code",
      "source": [
        "# separando tipos de variáveis \n",
        "var_categoricas = ['sex', 'exng', 'caa', 'cp', 'fbs', 'restecg', 'slp', 'thall']\n",
        "var_numericas = ['age','trtbps', 'chol', 'thalachh', 'oldpeak']\n",
        "print(f'Variáveis categóricas: {var_categoricas}\\nVariáveis numéricas: {var_numericas}')"
      ],
      "metadata": {
        "colab": {
          "base_uri": "https://localhost:8080/"
        },
        "id": "F_8hcXXCiZVX",
        "outputId": "3bbc6013-f177-4100-b274-1b5b61055603"
      },
      "execution_count": null,
      "outputs": [
        {
          "output_type": "stream",
          "name": "stdout",
          "text": [
            "Variáveis categóricas: ['sex', 'exng', 'caa', 'cp', 'fbs', 'restecg', 'slp', 'thall']\n",
            "Variáveis numéricas: ['age', 'trtbps', 'chol', 'thalachh', 'oldpeak']\n"
          ]
        }
      ]
    },
    {
      "cell_type": "markdown",
      "source": [
        "## 2.3 Limpeza dos dados"
      ],
      "metadata": {
        "id": "vniAtA-AjmKj"
      }
    },
    {
      "cell_type": "code",
      "source": [
        "# dados faltantes\n",
        "df.isnull().sum()"
      ],
      "metadata": {
        "colab": {
          "base_uri": "https://localhost:8080/"
        },
        "id": "0EQZwabHglZj",
        "outputId": "bcc8178b-4c40-47b2-c5c0-545b404537bf"
      },
      "execution_count": null,
      "outputs": [
        {
          "output_type": "execute_result",
          "data": {
            "text/plain": [
              "age           0\n",
              "sex           0\n",
              "cp            0\n",
              "trtbps        0\n",
              "chol          0\n",
              "fbs           0\n",
              "restecg       0\n",
              "thalachh      0\n",
              "exng          0\n",
              "oldpeak       0\n",
              "slp           0\n",
              "caa           0\n",
              "thall         0\n",
              "output        0\n",
              "saturation    0\n",
              "dtype: int64"
            ]
          },
          "metadata": {},
          "execution_count": 7
        }
      ]
    },
    {
      "cell_type": "markdown",
      "source": [
        "Note que não há dados nulos no dataset. "
      ],
      "metadata": {
        "id": "z-vBcrmMgoDX"
      }
    },
    {
      "cell_type": "code",
      "source": [
        "# verificando se há valores negativos \n",
        "df.min()"
      ],
      "metadata": {
        "colab": {
          "base_uri": "https://localhost:8080/"
        },
        "id": "L9FD1RIzbzxy",
        "outputId": "ea1168f4-dabf-4233-fe37-17c8ef30fa31"
      },
      "execution_count": null,
      "outputs": [
        {
          "output_type": "execute_result",
          "data": {
            "text/plain": [
              "age            29.0\n",
              "sex             0.0\n",
              "cp              0.0\n",
              "trtbps         94.0\n",
              "chol          126.0\n",
              "fbs             0.0\n",
              "restecg         0.0\n",
              "thalachh       71.0\n",
              "exng            0.0\n",
              "oldpeak         0.0\n",
              "slp             0.0\n",
              "caa             0.0\n",
              "thall           0.0\n",
              "output          0.0\n",
              "saturation     96.5\n",
              "dtype: float64"
            ]
          },
          "metadata": {},
          "execution_count": 8
        }
      ]
    },
    {
      "cell_type": "markdown",
      "source": [
        "### Avaliando os dados de cada coluna\n",
        "Verificar se os dados que compõem as colunas do dataset correspondem de fato àqueles expostos na descrição é de extrema importancia para que possamos realizar análises consistentes e corrigir eventuais problemas. \n",
        "1. Primeiro vamos desconsiderar os dados duplicados de cada coluna para ver como estes se distribuem. \n",
        "2. Depois, construímos boxplots para cada variável de modo a visualizar a existência de dados outliers \n",
        "3. Na presença de outliers, verifica-se a necessidade de tratá-los ou excluí-los para que não prejudiquem as análises.\n",
        "\n",
        "Tais etapas devem ser aplicadas tanto à variáveis numéricas, quanto categóricas, dado que estas já estão naturalmente transformadas (exemplo: sexo é descrito por 0 e 1, respectivamente para mulher e homem)\n"
      ],
      "metadata": {
        "id": "6paAg5D095fq"
      }
    },
    {
      "cell_type": "code",
      "source": [
        "# idade\n",
        "df.loc[:,'age'].drop_duplicates()"
      ],
      "metadata": {
        "colab": {
          "base_uri": "https://localhost:8080/"
        },
        "id": "xgqn89zpkXTN",
        "outputId": "8eccbdd5-8c1c-490b-c626-9db90ea6f253"
      },
      "execution_count": null,
      "outputs": [
        {
          "output_type": "execute_result",
          "data": {
            "text/plain": [
              "0      63\n",
              "1      37\n",
              "2      41\n",
              "3      56\n",
              "4      57\n",
              "7      44\n",
              "8      52\n",
              "10     54\n",
              "11     48\n",
              "12     49\n",
              "13     64\n",
              "14     58\n",
              "15     50\n",
              "17     66\n",
              "18     43\n",
              "19     69\n",
              "20     59\n",
              "22     42\n",
              "23     61\n",
              "24     40\n",
              "25     71\n",
              "27     51\n",
              "28     65\n",
              "29     53\n",
              "35     46\n",
              "42     45\n",
              "44     39\n",
              "47     47\n",
              "52     62\n",
              "58     34\n",
              "65     35\n",
              "72     29\n",
              "75     55\n",
              "82     60\n",
              "85     67\n",
              "86     68\n",
              "129    74\n",
              "144    76\n",
              "145    70\n",
              "163    38\n",
              "238    77\n",
              "Name: age, dtype: int64"
            ]
          },
          "metadata": {},
          "execution_count": 9
        }
      ]
    },
    {
      "cell_type": "code",
      "source": [
        "df.loc[:,'trtbps'].drop_duplicates() #pressao arterial em repouso"
      ],
      "metadata": {
        "colab": {
          "base_uri": "https://localhost:8080/"
        },
        "id": "10meR98jrP2h",
        "outputId": "5d6164c1-6486-43b4-f3ec-512092d2cee3"
      },
      "execution_count": null,
      "outputs": [
        {
          "output_type": "execute_result",
          "data": {
            "text/plain": [
              "0      145\n",
              "1      130\n",
              "3      120\n",
              "5      140\n",
              "8      172\n",
              "9      150\n",
              "13     110\n",
              "20     135\n",
              "25     160\n",
              "30     105\n",
              "33     125\n",
              "35     142\n",
              "38     155\n",
              "42     104\n",
              "47     138\n",
              "48     128\n",
              "53     108\n",
              "55     134\n",
              "56     122\n",
              "57     115\n",
              "58     118\n",
              "66     100\n",
              "69     124\n",
              "71      94\n",
              "80     112\n",
              "82     102\n",
              "83     152\n",
              "87     101\n",
              "91     132\n",
              "100    148\n",
              "101    178\n",
              "104    129\n",
              "110    180\n",
              "128    136\n",
              "134    126\n",
              "143    106\n",
              "145    156\n",
              "152    170\n",
              "153    146\n",
              "176    117\n",
              "223    200\n",
              "231    165\n",
              "241    174\n",
              "248    192\n",
              "257    144\n",
              "262    123\n",
              "287    154\n",
              "291    114\n",
              "297    164\n",
              "Name: trtbps, dtype: int64"
            ]
          },
          "metadata": {},
          "execution_count": 10
        }
      ]
    },
    {
      "cell_type": "code",
      "source": [
        "df.loc[:,'chol'].drop_duplicates() #colesterol obtido por imc"
      ],
      "metadata": {
        "colab": {
          "base_uri": "https://localhost:8080/"
        },
        "id": "_LDlqt4wrYbE",
        "outputId": "7beb1297-5aa3-4136-8880-26b03bef5d64"
      },
      "execution_count": null,
      "outputs": [
        {
          "output_type": "execute_result",
          "data": {
            "text/plain": [
              "0      233\n",
              "1      250\n",
              "2      204\n",
              "3      236\n",
              "4      354\n",
              "      ... \n",
              "294    169\n",
              "295    187\n",
              "297    176\n",
              "298    241\n",
              "301    131\n",
              "Name: chol, Length: 152, dtype: int64"
            ]
          },
          "metadata": {},
          "execution_count": 11
        }
      ]
    },
    {
      "cell_type": "code",
      "source": [
        "df.loc[:,'oldpeak'].drop_duplicates() #pico do ST anterior"
      ],
      "metadata": {
        "colab": {
          "base_uri": "https://localhost:8080/"
        },
        "id": "Dcl6avver5u9",
        "outputId": "5b3ab22b-77eb-454d-ed64-e0e342df57ae"
      },
      "execution_count": null,
      "outputs": [
        {
          "output_type": "execute_result",
          "data": {
            "text/plain": [
              "0      2.3\n",
              "1      3.5\n",
              "2      1.4\n",
              "3      0.8\n",
              "4      0.6\n",
              "5      0.4\n",
              "6      1.3\n",
              "7      0.0\n",
              "8      0.5\n",
              "9      1.6\n",
              "10     1.2\n",
              "11     0.2\n",
              "13     1.8\n",
              "14     1.0\n",
              "17     2.6\n",
              "18     1.5\n",
              "42     3.0\n",
              "76     2.4\n",
              "97     0.1\n",
              "98     1.9\n",
              "101    4.2\n",
              "108    1.1\n",
              "116    2.0\n",
              "125    0.7\n",
              "143    0.3\n",
              "147    0.9\n",
              "167    3.6\n",
              "169    3.1\n",
              "173    3.2\n",
              "178    2.5\n",
              "187    2.2\n",
              "193    2.8\n",
              "195    3.4\n",
              "204    6.2\n",
              "220    4.0\n",
              "221    5.6\n",
              "240    2.9\n",
              "244    2.1\n",
              "259    3.8\n",
              "291    4.4\n",
              "Name: oldpeak, dtype: float64"
            ]
          },
          "metadata": {},
          "execution_count": 12
        }
      ]
    },
    {
      "cell_type": "markdown",
      "source": [
        "**>>>>> DUVIDAAAAAAA** Verificar se os dados foram apenas deslocados <<<<<. "
      ],
      "metadata": {
        "id": "FaoISCvmqE95"
      }
    },
    {
      "cell_type": "code",
      "source": [
        "# verificando se há valores controversos - note que vai de 0-3, quando na descrição está 1-4 \n",
        "df.loc[:,'cp'].drop_duplicates() #tipo de dor no peito"
      ],
      "metadata": {
        "colab": {
          "base_uri": "https://localhost:8080/"
        },
        "id": "86bmIR-3k-qx",
        "outputId": "4eba171e-32ab-4812-ffcd-457d13b34565"
      },
      "execution_count": null,
      "outputs": [
        {
          "output_type": "execute_result",
          "data": {
            "text/plain": [
              "0    3\n",
              "1    2\n",
              "2    1\n",
              "4    0\n",
              "Name: cp, dtype: int64"
            ]
          },
          "metadata": {},
          "execution_count": 13
        }
      ]
    },
    {
      "cell_type": "code",
      "source": [
        "df.loc[:,'fbs'].drop_duplicates() #çucar no sangue, em jejum."
      ],
      "metadata": {
        "colab": {
          "base_uri": "https://localhost:8080/"
        },
        "id": "mOGkRN0KrgOs",
        "outputId": "3a8c0133-6a92-439d-f02c-7a49ecab7900"
      },
      "execution_count": null,
      "outputs": [
        {
          "output_type": "execute_result",
          "data": {
            "text/plain": [
              "0    1\n",
              "1    0\n",
              "Name: fbs, dtype: int64"
            ]
          },
          "metadata": {},
          "execution_count": 14
        }
      ]
    },
    {
      "cell_type": "code",
      "source": [
        "df.loc[:,'restecg'].drop_duplicates() #resultados eletrocardiográficos em repouso"
      ],
      "metadata": {
        "colab": {
          "base_uri": "https://localhost:8080/"
        },
        "id": "DNWFFTxhrqdc",
        "outputId": "aeae4596-780d-44a9-956f-0aa18e8bdee2"
      },
      "execution_count": null,
      "outputs": [
        {
          "output_type": "execute_result",
          "data": {
            "text/plain": [
              "0      0\n",
              "1      1\n",
              "144    2\n",
              "Name: restecg, dtype: int64"
            ]
          },
          "metadata": {},
          "execution_count": 15
        }
      ]
    },
    {
      "cell_type": "code",
      "source": [
        "df.loc[:,'exng'].drop_duplicates() #angina induzida por exercício"
      ],
      "metadata": {
        "colab": {
          "base_uri": "https://localhost:8080/"
        },
        "id": "MqDs1Uv3r5Wj",
        "outputId": "1bc44f3a-50ad-430b-9941-e38c94dd4f62"
      },
      "execution_count": null,
      "outputs": [
        {
          "output_type": "execute_result",
          "data": {
            "text/plain": [
              "0    0\n",
              "4    1\n",
              "Name: exng, dtype: int64"
            ]
          },
          "metadata": {},
          "execution_count": 16
        }
      ]
    },
    {
      "cell_type": "code",
      "source": [
        "df.loc[:,'slp'].drop_duplicates() #inclinação do pico do segmento ST do exercício "
      ],
      "metadata": {
        "colab": {
          "base_uri": "https://localhost:8080/"
        },
        "id": "mIPRmnkDr6vY",
        "outputId": "9f014495-e959-4f72-f656-f075b55c5344"
      },
      "execution_count": null,
      "outputs": [
        {
          "output_type": "execute_result",
          "data": {
            "text/plain": [
              "0    0\n",
              "2    2\n",
              "5    1\n",
              "Name: slp, dtype: int64"
            ]
          },
          "metadata": {},
          "execution_count": 17
        }
      ]
    },
    {
      "cell_type": "code",
      "source": [
        "df.loc[:,'caa'].drop_duplicates()"
      ],
      "metadata": {
        "colab": {
          "base_uri": "https://localhost:8080/"
        },
        "id": "p5EuP_nwunLQ",
        "outputId": "dc57ce99-b0a9-412c-aa9c-35dce2b18f21"
      },
      "execution_count": null,
      "outputs": [
        {
          "output_type": "execute_result",
          "data": {
            "text/plain": [
              "0     0\n",
              "19    2\n",
              "28    1\n",
              "52    3\n",
              "92    4\n",
              "Name: caa, dtype: int64"
            ]
          },
          "metadata": {},
          "execution_count": 18
        }
      ]
    },
    {
      "cell_type": "code",
      "source": [
        "df.loc[:,'thall'].drop_duplicates() #talassemia"
      ],
      "metadata": {
        "colab": {
          "base_uri": "https://localhost:8080/"
        },
        "id": "kfHCopFyuoVt",
        "outputId": "4ebfb048-4a11-4a77-d52d-32d21dd5be27"
      },
      "execution_count": null,
      "outputs": [
        {
          "output_type": "execute_result",
          "data": {
            "text/plain": [
              "0     1\n",
              "1     2\n",
              "7     3\n",
              "48    0\n",
              "Name: thall, dtype: int64"
            ]
          },
          "metadata": {},
          "execution_count": 19
        }
      ]
    },
    {
      "cell_type": "code",
      "source": [
        "df.loc[:,'output'].drop_duplicates() #chance de ataque"
      ],
      "metadata": {
        "colab": {
          "base_uri": "https://localhost:8080/"
        },
        "id": "K5kf1slpunwS",
        "outputId": "4dddb9a3-b85f-4c09-e62b-6a8bec79505d"
      },
      "execution_count": null,
      "outputs": [
        {
          "output_type": "execute_result",
          "data": {
            "text/plain": [
              "0      1\n",
              "165    0\n",
              "Name: output, dtype: int64"
            ]
          },
          "metadata": {},
          "execution_count": 20
        }
      ]
    },
    {
      "cell_type": "code",
      "source": [
        "# boxplot com a biblioteca seaborn\n",
        "my_palette = sns.color_palette(['salmon','sandybrown', 'lightgreen','steelblue','mediumorchid'])\n",
        "\n",
        "fig, axes = plt.subplots(nrows=2, ncols=3, figsize=(20, 6))\n",
        "\n",
        "#titulo da figura\n",
        "fig.suptitle('Boxplot das variáveis quantitativas', fontsize=16)\n",
        "\n",
        "# Aumentar o espaço vertical entre os subplots\n",
        "fig.subplots_adjust(hspace=0.5)\n",
        "\n",
        "# Traçar uma boxplot em cada subplot\n",
        "sns.boxplot(x='age', data=df, ax=axes[0, 0], palette='spring')\n",
        "axes[0, 0].set_title('Idade dos participantes')\n",
        "\n",
        "sns.boxplot(x='trtbps', data=df, ax=axes[0, 1], palette='Blues_r')\n",
        "axes[0,1].set_title('Pressão arterial (repouso)')\n",
        "\n",
        "sns.boxplot(x='chol', data=df, ax=axes[0, 2], palette='Purples')\n",
        "axes[0,2].set_title('Colesterol em mg/dl')\n",
        "\n",
        "sns.boxplot(x='thalachh', data=df, ax=axes[1, 0], palette='Accent')\n",
        "axes[1,0].set_title('Frequência cardíaca máxima')\n",
        "\n",
        "sns.boxplot(x='oldpeak', data=df, ax=axes[1, 1], palette='OrRd')\n",
        "axes[1,1].set_title('Depressão de ST induzida por exercício.')\n",
        "\n",
        "# Desativar os eixos do último subplot\n",
        "axes[1, 2].set_axis_off()\n",
        "\n",
        "# Exibir o plot\n",
        "plt.show()\n"
      ],
      "metadata": {
        "id": "OjKtMyB3qois",
        "colab": {
          "base_uri": "https://localhost:8080/",
          "height": 366
        },
        "outputId": "23318d8a-8471-4e0c-80ac-bf470aff9c19"
      },
      "execution_count": null,
      "outputs": [
        {
          "output_type": "display_data",
          "data": {
            "text/plain": [
              "<Figure size 1440x432 with 6 Axes>"
            ],
            "image/png": "[encoded data removed]"
          },
          "metadata": {
            "needs_background": "light"
          }
        }
      ]
    },
    {
      "cell_type": "markdown",
      "source": [
        "Dos boxplots anteriores, podemos analisar a existência de outliers nas colunas referentes à \n",
        "- Pressão arterial\n",
        "- Colesterol \n",
        "- Frequência cardíaca máxima \n",
        "- Depressão ST induzida por exercício\n",
        "\n",
        "Assim, vê-se necessário retirá-los de modo que não tendenciem nossas análises"
      ],
      "metadata": {
        "id": "jcGI8ufFbuM-"
      }
    },
    {
      "cell_type": "code",
      "source": [
        "# verificando quais são os outliers de trtbps\n",
        "df['trtbps'].nlargest(6)"
      ],
      "metadata": {
        "id": "FUm4_quYcScd",
        "colab": {
          "base_uri": "https://localhost:8080/"
        },
        "outputId": "c99cca49-8705-4570-fcb9-a3d7f32183ef"
      },
      "execution_count": null,
      "outputs": [
        {
          "output_type": "execute_result",
          "data": {
            "text/plain": [
              "223    200\n",
              "248    192\n",
              "110    180\n",
              "203    180\n",
              "266    180\n",
              "101    178\n",
              "Name: trtbps, dtype: int64"
            ]
          },
          "metadata": {},
          "execution_count": 22
        }
      ]
    },
    {
      "cell_type": "code",
      "source": [
        "df['oldpeak'].nlargest(4)"
      ],
      "metadata": {
        "colab": {
          "base_uri": "https://localhost:8080/"
        },
        "id": "IDJvFJjyBMkq",
        "outputId": "d97ce2d5-c202-43d1-a888-77c6f46a7086"
      },
      "execution_count": null,
      "outputs": [
        {
          "output_type": "execute_result",
          "data": {
            "text/plain": [
              "204    6.2\n",
              "221    5.6\n",
              "291    4.4\n",
              "101    4.2\n",
              "Name: oldpeak, dtype: float64"
            ]
          },
          "metadata": {},
          "execution_count": 23
        }
      ]
    },
    {
      "cell_type": "code",
      "source": [
        "df['chol'].nlargest(4) "
      ],
      "metadata": {
        "colab": {
          "base_uri": "https://localhost:8080/"
        },
        "id": "CX9KJmxQBNYG",
        "outputId": "6cc753ba-1d39-4638-8df4-de992f547786"
      },
      "execution_count": null,
      "outputs": [
        {
          "output_type": "execute_result",
          "data": {
            "text/plain": [
              "85     564\n",
              "28     417\n",
              "246    409\n",
              "220    407\n",
              "Name: chol, dtype: int64"
            ]
          },
          "metadata": {},
          "execution_count": 24
        }
      ]
    },
    {
      "cell_type": "code",
      "source": [
        "df['thalachh'].nsmallest(20)"
      ],
      "metadata": {
        "colab": {
          "base_uri": "https://localhost:8080/"
        },
        "id": "ctRi22-YBQT1",
        "outputId": "b7997e0c-7537-45a7-d5e9-ba913663d4f5"
      },
      "execution_count": null,
      "outputs": [
        {
          "output_type": "execute_result",
          "data": {
            "text/plain": [
              "272     71\n",
              "243     88\n",
              "297     90\n",
              "262     95\n",
              "136     96\n",
              "233     96\n",
              "216     97\n",
              "198     99\n",
              "226    103\n",
              "269    103\n",
              "139    105\n",
              "244    105\n",
              "276    105\n",
              "252    106\n",
              "165    108\n",
              "264    108\n",
              "187    109\n",
              "234    109\n",
              "95     111\n",
              "202    111\n",
              "Name: thalachh, dtype: int64"
            ]
          },
          "metadata": {},
          "execution_count": 25
        }
      ]
    },
    {
      "cell_type": "markdown",
      "source": [
        "#### Idade"
      ],
      "metadata": {
        "id": "81q3u9OLByp2"
      }
    },
    {
      "cell_type": "code",
      "source": [
        "df['age'].nlargest(5)"
      ],
      "metadata": {
        "colab": {
          "base_uri": "https://localhost:8080/"
        },
        "id": "5Z_3yVTTBR2C",
        "outputId": "5ed8fb00-ff45-415b-cf7a-37720b86ed47"
      },
      "execution_count": null,
      "outputs": [
        {
          "output_type": "execute_result",
          "data": {
            "text/plain": [
              "238    77\n",
              "144    76\n",
              "129    74\n",
              "25     71\n",
              "60     71\n",
              "Name: age, dtype: int64"
            ]
          },
          "metadata": {},
          "execution_count": 26
        }
      ]
    },
    {
      "cell_type": "code",
      "source": [
        "df.loc[df['age'] > 77] = 77\n",
        "df['age'].nlargest(2)"
      ],
      "metadata": {
        "colab": {
          "base_uri": "https://localhost:8080/"
        },
        "id": "lC6UFGS6B6_i",
        "outputId": "4886c9dc-82be-41fd-f6b7-392c62eefd98"
      },
      "execution_count": null,
      "outputs": [
        {
          "output_type": "execute_result",
          "data": {
            "text/plain": [
              "238    77\n",
              "144    76\n",
              "Name: age, dtype: int64"
            ]
          },
          "metadata": {},
          "execution_count": 27
        }
      ]
    },
    {
      "cell_type": "code",
      "source": [
        "print(df['age'].nsmallest(10))"
      ],
      "metadata": {
        "colab": {
          "base_uri": "https://localhost:8080/"
        },
        "id": "DfJyEBrpC4Ij",
        "outputId": "86db85b6-8fbc-4632-94f6-251bd87476ed"
      },
      "execution_count": null,
      "outputs": [
        {
          "output_type": "stream",
          "name": "stdout",
          "text": [
            "72     29\n",
            "58     34\n",
            "125    34\n",
            "65     35\n",
            "157    35\n",
            "227    35\n",
            "239    35\n",
            "1      37\n",
            "115    37\n",
            "163    38\n",
            "Name: age, dtype: int64\n"
          ]
        }
      ]
    },
    {
      "cell_type": "code",
      "source": [
        "df.loc[df['age'] < 30] = 30 \n",
        "df['age'].nsmallest(10)"
      ],
      "metadata": {
        "colab": {
          "base_uri": "https://localhost:8080/"
        },
        "id": "kI5KHtLsDA4Z",
        "outputId": "c9859302-fc54-4566-8c31-b5f60e7d150a"
      },
      "execution_count": null,
      "outputs": [
        {
          "output_type": "execute_result",
          "data": {
            "text/plain": [
              "72     30\n",
              "58     34\n",
              "125    34\n",
              "65     35\n",
              "157    35\n",
              "227    35\n",
              "239    35\n",
              "1      37\n",
              "115    37\n",
              "163    38\n",
              "Name: age, dtype: int64"
            ]
          },
          "metadata": {},
          "execution_count": 29
        }
      ]
    },
    {
      "cell_type": "markdown",
      "source": [
        "#### Pressão arterial\n"
      ],
      "metadata": {
        "id": "khkiZkgVCLgT"
      }
    },
    {
      "cell_type": "code",
      "source": [
        "df['trtbps'].nlargest(6)"
      ],
      "metadata": {
        "colab": {
          "base_uri": "https://localhost:8080/"
        },
        "id": "GtcVKtzcCdw_",
        "outputId": "09240aca-fac5-412d-da97-a99c62905546"
      },
      "execution_count": null,
      "outputs": [
        {
          "output_type": "execute_result",
          "data": {
            "text/plain": [
              "223    200\n",
              "248    192\n",
              "110    180\n",
              "203    180\n",
              "266    180\n",
              "101    178\n",
              "Name: trtbps, dtype: int64"
            ]
          },
          "metadata": {},
          "execution_count": 30
        }
      ]
    },
    {
      "cell_type": "code",
      "source": [
        "df.loc[df['trtbps'] > 170] = 170\n",
        "df['trtbps'].nlargest(4)"
      ],
      "metadata": {
        "colab": {
          "base_uri": "https://localhost:8080/"
        },
        "id": "ElX1yIvmCKXM",
        "outputId": "f9ba8f63-6699-4544-c35d-c22ff536f5b8"
      },
      "execution_count": null,
      "outputs": [
        {
          "output_type": "execute_result",
          "data": {
            "text/plain": [
              "8      170\n",
              "101    170\n",
              "110    170\n",
              "152    170\n",
              "Name: trtbps, dtype: int64"
            ]
          },
          "metadata": {},
          "execution_count": 31
        }
      ]
    },
    {
      "cell_type": "code",
      "source": [
        "df.loc[df['trtbps'] < 94] = 94\n",
        "df['trtbps'].nsmallest(10)"
      ],
      "metadata": {
        "colab": {
          "base_uri": "https://localhost:8080/"
        },
        "id": "mSCVfR4LDDrl",
        "outputId": "dc995b89-d768-407d-9769-04d17d255754"
      },
      "execution_count": null,
      "outputs": [
        {
          "output_type": "execute_result",
          "data": {
            "text/plain": [
              "71      94\n",
              "72      94\n",
              "124     94\n",
              "66     100\n",
              "89     100\n",
              "253    100\n",
              "273    100\n",
              "87     101\n",
              "82     102\n",
              "84     102\n",
              "Name: trtbps, dtype: int64"
            ]
          },
          "metadata": {},
          "execution_count": 32
        }
      ]
    },
    {
      "cell_type": "markdown",
      "source": [
        "#### Depressao ST"
      ],
      "metadata": {
        "id": "n5iYHMzOChGF"
      }
    },
    {
      "cell_type": "code",
      "source": [
        "df['oldpeak'].nlargest(4)"
      ],
      "metadata": {
        "colab": {
          "base_uri": "https://localhost:8080/"
        },
        "id": "zUdar4RJCjfo",
        "outputId": "6290d498-b0d9-4073-cc3e-cf91e84ebe52"
      },
      "execution_count": null,
      "outputs": [
        {
          "output_type": "execute_result",
          "data": {
            "text/plain": [
              "8      170.0\n",
              "101    170.0\n",
              "110    170.0\n",
              "203    170.0\n",
              "Name: oldpeak, dtype: float64"
            ]
          },
          "metadata": {},
          "execution_count": 33
        }
      ]
    },
    {
      "cell_type": "code",
      "source": [
        "df.loc[df['oldpeak'] > 4] = 4\n",
        "df['oldpeak'].nlargest(10)"
      ],
      "metadata": {
        "colab": {
          "base_uri": "https://localhost:8080/"
        },
        "id": "LTj4LiyNDWGh",
        "outputId": "6bcf9795-186a-403e-fde4-2c047e3000dd"
      },
      "execution_count": null,
      "outputs": [
        {
          "output_type": "execute_result",
          "data": {
            "text/plain": [
              "8      4.0\n",
              "72     4.0\n",
              "101    4.0\n",
              "110    4.0\n",
              "203    4.0\n",
              "204    4.0\n",
              "220    4.0\n",
              "221    4.0\n",
              "223    4.0\n",
              "241    4.0\n",
              "Name: oldpeak, dtype: float64"
            ]
          },
          "metadata": {},
          "execution_count": 34
        }
      ]
    },
    {
      "cell_type": "markdown",
      "source": [
        "#### Colesterol"
      ],
      "metadata": {
        "id": "fhDL6s0ACrGb"
      }
    },
    {
      "cell_type": "code",
      "source": [
        "df['chol'].nlargest(4)"
      ],
      "metadata": {
        "colab": {
          "base_uri": "https://localhost:8080/"
        },
        "id": "VhY-xepbCmc-",
        "outputId": "e4ba9e34-ff9c-4e2f-98b3-ca60ff784623"
      },
      "execution_count": null,
      "outputs": [
        {
          "output_type": "execute_result",
          "data": {
            "text/plain": [
              "85     564\n",
              "28     417\n",
              "246    409\n",
              "220    407\n",
              "Name: chol, dtype: int64"
            ]
          },
          "metadata": {},
          "execution_count": 35
        }
      ]
    },
    {
      "cell_type": "code",
      "source": [
        "df.loc[df['chol'] > 360] = 360\n",
        "df['chol'].nlargest(4)"
      ],
      "metadata": {
        "colab": {
          "base_uri": "https://localhost:8080/"
        },
        "id": "szRNXXrlDQIF",
        "outputId": "83cdc338-e943-4c93-cd01-04c61a1a82f7"
      },
      "execution_count": null,
      "outputs": [
        {
          "output_type": "execute_result",
          "data": {
            "text/plain": [
              "28    360\n",
              "39    360\n",
              "85    360\n",
              "96    360\n",
              "Name: chol, dtype: int64"
            ]
          },
          "metadata": {},
          "execution_count": 36
        }
      ]
    },
    {
      "cell_type": "code",
      "source": [
        "df.loc[df['chol'] < 126] = 126\n",
        "df['chol'].nsmallest(10)"
      ],
      "metadata": {
        "colab": {
          "base_uri": "https://localhost:8080/"
        },
        "id": "ZwV-hFXlDi4X",
        "outputId": "28a7a458-ae3c-4e7d-8f36-202fbf8aa28f"
      },
      "execution_count": null,
      "outputs": [
        {
          "output_type": "execute_result",
          "data": {
            "text/plain": [
              "8      126\n",
              "72     126\n",
              "101    126\n",
              "110    126\n",
              "111    126\n",
              "203    126\n",
              "204    126\n",
              "221    126\n",
              "223    126\n",
              "241    126\n",
              "Name: chol, dtype: int64"
            ]
          },
          "metadata": {},
          "execution_count": 37
        }
      ]
    },
    {
      "cell_type": "markdown",
      "source": [
        "#### tssd"
      ],
      "metadata": {
        "id": "zHpqN7ZeCt2a"
      }
    },
    {
      "cell_type": "code",
      "source": [
        "df['thalachh'].nsmallest(20)"
      ],
      "metadata": {
        "colab": {
          "base_uri": "https://localhost:8080/"
        },
        "id": "bPBttYa8Ctkm",
        "outputId": "20f4687d-cabd-4c77-9f4d-3e447c86315f"
      },
      "execution_count": null,
      "outputs": [
        {
          "output_type": "execute_result",
          "data": {
            "text/plain": [
              "272     71\n",
              "243     88\n",
              "297     90\n",
              "262     95\n",
              "136     96\n",
              "233     96\n",
              "216     97\n",
              "198     99\n",
              "226    103\n",
              "269    103\n",
              "139    105\n",
              "244    105\n",
              "276    105\n",
              "252    106\n",
              "165    108\n",
              "264    108\n",
              "187    109\n",
              "234    109\n",
              "95     111\n",
              "202    111\n",
              "Name: thalachh, dtype: int64"
            ]
          },
          "metadata": {},
          "execution_count": 38
        }
      ]
    },
    {
      "cell_type": "code",
      "source": [
        "# ajustando valores para thalachh\n",
        "df.loc[df['thalachh'] < 80] = 80\n",
        "df['thalachh'].nsmallest(20)"
      ],
      "metadata": {
        "colab": {
          "base_uri": "https://localhost:8080/"
        },
        "id": "Hpy7ryr8C8_i",
        "outputId": "109042ea-3e31-40a8-d33a-ecc1a0da3d6a"
      },
      "execution_count": null,
      "outputs": [
        {
          "output_type": "execute_result",
          "data": {
            "text/plain": [
              "272     80\n",
              "243     88\n",
              "297     90\n",
              "262     95\n",
              "136     96\n",
              "233     96\n",
              "216     97\n",
              "198     99\n",
              "226    103\n",
              "269    103\n",
              "139    105\n",
              "244    105\n",
              "276    105\n",
              "252    106\n",
              "165    108\n",
              "264    108\n",
              "187    109\n",
              "234    109\n",
              "95     111\n",
              "202    111\n",
              "Name: thalachh, dtype: int64"
            ]
          },
          "metadata": {},
          "execution_count": 39
        }
      ]
    },
    {
      "cell_type": "code",
      "source": [
        "df.loc[:,'sex'].drop_duplicates()"
      ],
      "metadata": {
        "id": "Wi4LBqUKGmUt",
        "outputId": "e06db5c9-b412-4585-ca47-c1d2346a0525",
        "colab": {
          "base_uri": "https://localhost:8080/"
        }
      },
      "execution_count": null,
      "outputs": [
        {
          "output_type": "execute_result",
          "data": {
            "text/plain": [
              "0        1\n",
              "2        0\n",
              "8      126\n",
              "28     360\n",
              "272     80\n",
              "Name: sex, dtype: int64"
            ]
          },
          "metadata": {},
          "execution_count": 42
        }
      ]
    },
    {
      "cell_type": "code",
      "source": [
        "df_sex = df.drop(df[df['sex'] == 77].index, inplace=False)\n",
        "df_sex.loc[:,'sex'].drop_duplicates()"
      ],
      "metadata": {
        "id": "YL2f4QXMGpMb",
        "outputId": "d53a340d-dbd5-4459-9921-c0c3e4d0efd1",
        "colab": {
          "base_uri": "https://localhost:8080/"
        }
      },
      "execution_count": null,
      "outputs": [
        {
          "output_type": "execute_result",
          "data": {
            "text/plain": [
              "0        1\n",
              "2        0\n",
              "8      126\n",
              "28     360\n",
              "272     80\n",
              "Name: sex, dtype: int64"
            ]
          },
          "metadata": {},
          "execution_count": 43
        }
      ]
    },
    {
      "cell_type": "markdown",
      "source": [],
      "metadata": {
        "id": "VJlLrwBrCxdt"
      }
    },
    {
      "cell_type": "code",
      "source": [
        "# extremos \n",
        "_ = df['age'].min()\n",
        "print(f'Idade mínima: {_} anos')\n",
        "_ = df['age'].max()\n",
        "print(f'Idade máxima: {_} anos')"
      ],
      "metadata": {
        "colab": {
          "base_uri": "https://localhost:8080/"
        },
        "id": "tcugsKlWk0mE",
        "outputId": "f05aa008-793f-47f1-8dea-6e1f959676bb"
      },
      "execution_count": null,
      "outputs": [
        {
          "output_type": "stream",
          "name": "stdout",
          "text": [
            "Idade mínima: 34 anos\n",
            "Idade máxima: 360 anos\n"
          ]
        }
      ]
    },
    {
      "cell_type": "code",
      "source": [
        "# boxplot sem outliers\n",
        "\n",
        "fig2, axes2 = plt.subplots(nrows=2, ncols=3, figsize=(20, 6))\n",
        "\n",
        "#titulo da figura\n",
        "fig2.suptitle('Boxplot das variáveis quantitativas', fontsize=16)\n",
        "\n",
        "# Aumentar o espaço vertical entre os subplots\n",
        "fig2.subplots_adjust(hspace=0.5)\n",
        "\n",
        "# Traçar uma boxplot em cada subplot\n",
        "sns.boxplot(x='age', data=df, ax=axes2[0, 0], palette='spring')\n",
        "axes2[0, 0].set_title('Idade dos participantes')\n",
        "\n",
        "sns.boxplot(x='trtbps', data=df, ax=axes2[0, 1], palette='Blues_r')\n",
        "axes2[0,1].set_title('Pressão arterial (repouso)')\n",
        "\n",
        "sns.boxplot(x='chol', data=df, ax=axes2[0, 2], palette='Purples')\n",
        "axes2[0,2].set_title('Colesterol em mg/dl')\n",
        "\n",
        "sns.boxplot(x='thalachh', data=df, ax=axes2[1, 0], palette='Accent')\n",
        "axes2[1,0].set_title('Frequência cardíaca máxima')\n",
        "\n",
        "sns.boxplot(x='oldpeak', data=df, ax=axes2[1, 1], palette='OrRd')\n",
        "axes2[1,1].set_title('Depressão de ST induzida por exercício.')\n",
        "\n",
        "# Desativar os eixos do último subplot\n",
        "axes2[1, 2].set_axis_off()\n",
        "\n",
        "# Exibir o plot\n",
        "plt.show()\n"
      ],
      "metadata": {
        "colab": {
          "base_uri": "https://localhost:8080/",
          "height": 366
        },
        "id": "yfvOQhCzDpGj",
        "outputId": "f13e14a9-2c33-4d17-8881-44f827bdc841"
      },
      "execution_count": null,
      "outputs": [
        {
          "output_type": "display_data",
          "data": {
            "text/plain": [
              "<Figure size 1440x432 with 6 Axes>"
            ],
            "image/png": "[encoded data removed]"
          },
          "metadata": {
            "needs_background": "light"
          }
        }
      ]
    },
    {
      "cell_type": "markdown",
      "source": [
        "# 3. Análise descritiva"
      ],
      "metadata": {
        "id": "opldQJ-vGwnm"
      }
    },
    {
      "cell_type": "markdown",
      "source": [
        "## 3.1 Análise Univariada"
      ],
      "metadata": {
        "id": "G3Lx2uWlGyTe"
      }
    },
    {
      "cell_type": "markdown",
      "source": [
        "## 3.1 Análise Univariada"
      ],
      "metadata": {
        "id": "ZA0clBPvGy-T"
      }
    },
    {
      "cell_type": "markdown",
      "source": [
        "### Idade"
      ],
      "metadata": {
        "id": "xKGbsosAG8LL"
      }
    },
    {
      "cell_type": "code",
      "source": [
        "plt.figure(figsize=(12, 6))\n",
        "sns.histplot(df.age, kde=True)\n",
        "plt.title('Histograma de idade e curva de distribuição', fontsize=16)\n",
        "plt.xlabel('Idade', fontsize=14)\n",
        "plt.ylabel('Contagem', fontsize=14);"
      ],
      "metadata": {
        "id": "xnnW_IQDGiD7"
      },
      "execution_count": null,
      "outputs": []
    },
    {
      "cell_type": "code",
      "source": [
        "df['age'].describe()"
      ],
      "metadata": {
        "id": "Jn0Ya5q5G4QP"
      },
      "execution_count": null,
      "outputs": []
    },
    {
      "cell_type": "code",
      "source": [
        "Do histograma mostrado acima, extraímos que há uma maior concentração dos participantes em idades de **50** a **60** anos. Note que trata-se de um intervalo condizente, posto que a **média** é de aproximadamente **55** anos.\n",
        "Além disso, é interessante observar que a curva de distribuição pode ser extrapolada como próxima ao compostamento de uma **distribuição Gaussiana**."
      ],
      "metadata": {
        "id": "wq9PbZBNG5kq"
      },
      "execution_count": null,
      "outputs": []
    },
    {
      "cell_type": "markdown",
      "source": [
        "### Sexo"
      ],
      "metadata": {
        "id": "Vm4PTgWVG_ZG"
      }
    },
    {
      "cell_type": "code",
      "source": [
        "fig = plt.figure(figsize=(12, 6))\n",
        "plt.title('Distribuição de participantes por sexo', size = 16)\n",
        "ax = sns.countplot(data=df_sex, x='sex', palette='Set2')\n",
        "\n",
        "ax.set_xlabel('Idade', fontsize=14)\n",
        "ax.set_ylabel('Contagem', fontsize=14);\n",
        "ax.set_xticklabels(['Feminino', 'Masculino'])\n",
        "\n",
        "\n",
        "# Adiciona as porcentagens nas barras\n",
        "total = len(df_sex['sex'])\n",
        "for p in ax.patches:\n",
        "    percentage = '{:.1f}%'.format(100 * p.get_height()/total)\n",
        "    x = p.get_x() + p.get_width() / 2 - 0.1\n",
        "    y = p.get_y() + p.get_height()\n",
        "    ax.annotate(percentage, (x, y), size=11)\n",
        "plt.show()"
      ],
      "metadata": {
        "id": "WuQXFGhXHBIw"
      },
      "execution_count": null,
      "outputs": []
    }
  ]
}